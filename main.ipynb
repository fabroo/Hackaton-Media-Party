{
  "nbformat": 4,
  "nbformat_minor": 0,
  "metadata": {
    "colab": {
      "provenance": [],
      "gpuType": "T4"
    },
    "kernelspec": {
      "name": "python3",
      "display_name": "Python 3"
    },
    "language_info": {
      "name": "python"
    },
    "accelerator": "GPU",
    "widgets": {
      "application/vnd.jupyter.widget-state+json": {
        "1defd3db261a4f299300ab50cc4df206": {
          "model_module": "@jupyter-widgets/controls",
          "model_name": "HBoxModel",
          "model_module_version": "1.5.0",
          "state": {
            "_dom_classes": [],
            "_model_module": "@jupyter-widgets/controls",
            "_model_module_version": "1.5.0",
            "_model_name": "HBoxModel",
            "_view_count": null,
            "_view_module": "@jupyter-widgets/controls",
            "_view_module_version": "1.5.0",
            "_view_name": "HBoxView",
            "box_style": "",
            "children": [
              "IPY_MODEL_841f7a01c005485b9b90ca28a999d8a8",
              "IPY_MODEL_fae31ffa313e43368845c32f73d4a5e4",
              "IPY_MODEL_59cd32ed83174e178542fd47cb38cbf7"
            ],
            "layout": "IPY_MODEL_f8ebd836d97646248c47f1871f062c6f"
          }
        },
        "841f7a01c005485b9b90ca28a999d8a8": {
          "model_module": "@jupyter-widgets/controls",
          "model_name": "HTMLModel",
          "model_module_version": "1.5.0",
          "state": {
            "_dom_classes": [],
            "_model_module": "@jupyter-widgets/controls",
            "_model_module_version": "1.5.0",
            "_model_name": "HTMLModel",
            "_view_count": null,
            "_view_module": "@jupyter-widgets/controls",
            "_view_module_version": "1.5.0",
            "_view_name": "HTMLView",
            "description": "",
            "description_tooltip": null,
            "layout": "IPY_MODEL_615097d3ccb441ec9d12be61a42341cc",
            "placeholder": "​",
            "style": "IPY_MODEL_c65fd2468c1e4c7f8c317a464dac7254",
            "value": "Batches: 100%"
          }
        },
        "fae31ffa313e43368845c32f73d4a5e4": {
          "model_module": "@jupyter-widgets/controls",
          "model_name": "FloatProgressModel",
          "model_module_version": "1.5.0",
          "state": {
            "_dom_classes": [],
            "_model_module": "@jupyter-widgets/controls",
            "_model_module_version": "1.5.0",
            "_model_name": "FloatProgressModel",
            "_view_count": null,
            "_view_module": "@jupyter-widgets/controls",
            "_view_module_version": "1.5.0",
            "_view_name": "ProgressView",
            "bar_style": "success",
            "description": "",
            "description_tooltip": null,
            "layout": "IPY_MODEL_c4f72feeaa6949459ad08eaef2230aa6",
            "max": 98,
            "min": 0,
            "orientation": "horizontal",
            "style": "IPY_MODEL_f102ea73ab2b4ef0a5bb62071e09c2e7",
            "value": 98
          }
        },
        "59cd32ed83174e178542fd47cb38cbf7": {
          "model_module": "@jupyter-widgets/controls",
          "model_name": "HTMLModel",
          "model_module_version": "1.5.0",
          "state": {
            "_dom_classes": [],
            "_model_module": "@jupyter-widgets/controls",
            "_model_module_version": "1.5.0",
            "_model_name": "HTMLModel",
            "_view_count": null,
            "_view_module": "@jupyter-widgets/controls",
            "_view_module_version": "1.5.0",
            "_view_name": "HTMLView",
            "description": "",
            "description_tooltip": null,
            "layout": "IPY_MODEL_1b2f6f42dfc94ad5b3bbad131a342f72",
            "placeholder": "​",
            "style": "IPY_MODEL_f1b67972c6fb458fb651e4bb0ee4510b",
            "value": " 98/98 [00:25&lt;00:00,  3.79it/s]"
          }
        },
        "f8ebd836d97646248c47f1871f062c6f": {
          "model_module": "@jupyter-widgets/base",
          "model_name": "LayoutModel",
          "model_module_version": "1.2.0",
          "state": {
            "_model_module": "@jupyter-widgets/base",
            "_model_module_version": "1.2.0",
            "_model_name": "LayoutModel",
            "_view_count": null,
            "_view_module": "@jupyter-widgets/base",
            "_view_module_version": "1.2.0",
            "_view_name": "LayoutView",
            "align_content": null,
            "align_items": null,
            "align_self": null,
            "border": null,
            "bottom": null,
            "display": null,
            "flex": null,
            "flex_flow": null,
            "grid_area": null,
            "grid_auto_columns": null,
            "grid_auto_flow": null,
            "grid_auto_rows": null,
            "grid_column": null,
            "grid_gap": null,
            "grid_row": null,
            "grid_template_areas": null,
            "grid_template_columns": null,
            "grid_template_rows": null,
            "height": null,
            "justify_content": null,
            "justify_items": null,
            "left": null,
            "margin": null,
            "max_height": null,
            "max_width": null,
            "min_height": null,
            "min_width": null,
            "object_fit": null,
            "object_position": null,
            "order": null,
            "overflow": null,
            "overflow_x": null,
            "overflow_y": null,
            "padding": null,
            "right": null,
            "top": null,
            "visibility": null,
            "width": null
          }
        },
        "615097d3ccb441ec9d12be61a42341cc": {
          "model_module": "@jupyter-widgets/base",
          "model_name": "LayoutModel",
          "model_module_version": "1.2.0",
          "state": {
            "_model_module": "@jupyter-widgets/base",
            "_model_module_version": "1.2.0",
            "_model_name": "LayoutModel",
            "_view_count": null,
            "_view_module": "@jupyter-widgets/base",
            "_view_module_version": "1.2.0",
            "_view_name": "LayoutView",
            "align_content": null,
            "align_items": null,
            "align_self": null,
            "border": null,
            "bottom": null,
            "display": null,
            "flex": null,
            "flex_flow": null,
            "grid_area": null,
            "grid_auto_columns": null,
            "grid_auto_flow": null,
            "grid_auto_rows": null,
            "grid_column": null,
            "grid_gap": null,
            "grid_row": null,
            "grid_template_areas": null,
            "grid_template_columns": null,
            "grid_template_rows": null,
            "height": null,
            "justify_content": null,
            "justify_items": null,
            "left": null,
            "margin": null,
            "max_height": null,
            "max_width": null,
            "min_height": null,
            "min_width": null,
            "object_fit": null,
            "object_position": null,
            "order": null,
            "overflow": null,
            "overflow_x": null,
            "overflow_y": null,
            "padding": null,
            "right": null,
            "top": null,
            "visibility": null,
            "width": null
          }
        },
        "c65fd2468c1e4c7f8c317a464dac7254": {
          "model_module": "@jupyter-widgets/controls",
          "model_name": "DescriptionStyleModel",
          "model_module_version": "1.5.0",
          "state": {
            "_model_module": "@jupyter-widgets/controls",
            "_model_module_version": "1.5.0",
            "_model_name": "DescriptionStyleModel",
            "_view_count": null,
            "_view_module": "@jupyter-widgets/base",
            "_view_module_version": "1.2.0",
            "_view_name": "StyleView",
            "description_width": ""
          }
        },
        "c4f72feeaa6949459ad08eaef2230aa6": {
          "model_module": "@jupyter-widgets/base",
          "model_name": "LayoutModel",
          "model_module_version": "1.2.0",
          "state": {
            "_model_module": "@jupyter-widgets/base",
            "_model_module_version": "1.2.0",
            "_model_name": "LayoutModel",
            "_view_count": null,
            "_view_module": "@jupyter-widgets/base",
            "_view_module_version": "1.2.0",
            "_view_name": "LayoutView",
            "align_content": null,
            "align_items": null,
            "align_self": null,
            "border": null,
            "bottom": null,
            "display": null,
            "flex": null,
            "flex_flow": null,
            "grid_area": null,
            "grid_auto_columns": null,
            "grid_auto_flow": null,
            "grid_auto_rows": null,
            "grid_column": null,
            "grid_gap": null,
            "grid_row": null,
            "grid_template_areas": null,
            "grid_template_columns": null,
            "grid_template_rows": null,
            "height": null,
            "justify_content": null,
            "justify_items": null,
            "left": null,
            "margin": null,
            "max_height": null,
            "max_width": null,
            "min_height": null,
            "min_width": null,
            "object_fit": null,
            "object_position": null,
            "order": null,
            "overflow": null,
            "overflow_x": null,
            "overflow_y": null,
            "padding": null,
            "right": null,
            "top": null,
            "visibility": null,
            "width": null
          }
        },
        "f102ea73ab2b4ef0a5bb62071e09c2e7": {
          "model_module": "@jupyter-widgets/controls",
          "model_name": "ProgressStyleModel",
          "model_module_version": "1.5.0",
          "state": {
            "_model_module": "@jupyter-widgets/controls",
            "_model_module_version": "1.5.0",
            "_model_name": "ProgressStyleModel",
            "_view_count": null,
            "_view_module": "@jupyter-widgets/base",
            "_view_module_version": "1.2.0",
            "_view_name": "StyleView",
            "bar_color": null,
            "description_width": ""
          }
        },
        "1b2f6f42dfc94ad5b3bbad131a342f72": {
          "model_module": "@jupyter-widgets/base",
          "model_name": "LayoutModel",
          "model_module_version": "1.2.0",
          "state": {
            "_model_module": "@jupyter-widgets/base",
            "_model_module_version": "1.2.0",
            "_model_name": "LayoutModel",
            "_view_count": null,
            "_view_module": "@jupyter-widgets/base",
            "_view_module_version": "1.2.0",
            "_view_name": "LayoutView",
            "align_content": null,
            "align_items": null,
            "align_self": null,
            "border": null,
            "bottom": null,
            "display": null,
            "flex": null,
            "flex_flow": null,
            "grid_area": null,
            "grid_auto_columns": null,
            "grid_auto_flow": null,
            "grid_auto_rows": null,
            "grid_column": null,
            "grid_gap": null,
            "grid_row": null,
            "grid_template_areas": null,
            "grid_template_columns": null,
            "grid_template_rows": null,
            "height": null,
            "justify_content": null,
            "justify_items": null,
            "left": null,
            "margin": null,
            "max_height": null,
            "max_width": null,
            "min_height": null,
            "min_width": null,
            "object_fit": null,
            "object_position": null,
            "order": null,
            "overflow": null,
            "overflow_x": null,
            "overflow_y": null,
            "padding": null,
            "right": null,
            "top": null,
            "visibility": null,
            "width": null
          }
        },
        "f1b67972c6fb458fb651e4bb0ee4510b": {
          "model_module": "@jupyter-widgets/controls",
          "model_name": "DescriptionStyleModel",
          "model_module_version": "1.5.0",
          "state": {
            "_model_module": "@jupyter-widgets/controls",
            "_model_module_version": "1.5.0",
            "_model_name": "DescriptionStyleModel",
            "_view_count": null,
            "_view_module": "@jupyter-widgets/base",
            "_view_module_version": "1.2.0",
            "_view_name": "StyleView",
            "description_width": ""
          }
        }
      }
    }
  },
  "cells": [
    {
      "cell_type": "code",
      "execution_count": 79,
      "metadata": {
        "colab": {
          "base_uri": "https://localhost:8080/"
        },
        "id": "TJxDKyKK733Q",
        "outputId": "7c802206-51c6-4999-d569-0cdeeb7e09f8"
      },
      "outputs": [
        {
          "output_type": "execute_result",
          "data": {
            "text/plain": [
              "[PosixPath('data/pobreza.md'),\n",
              " PosixPath('data/inflacion.md'),\n",
              " PosixPath('data/mineria.md'),\n",
              " PosixPath('data/emisiones-de-gases-de-efecto-invernadero.md'),\n",
              " PosixPath('data/ciencia-y-tecnologia.md'),\n",
              " PosixPath('data/desarrollo-humano.md'),\n",
              " PosixPath('data/estructura-productiva.md'),\n",
              " PosixPath('data/servicios-basados-en-el-conocimiento.md'),\n",
              " PosixPath('data/crecimiento.md'),\n",
              " PosixPath('data/informalidad-y-desempleo.md'),\n",
              " PosixPath('data/transicion-energetica.md'),\n",
              " PosixPath('data/cambio-climatico.md'),\n",
              " PosixPath('data/comercio-exterior.md'),\n",
              " PosixPath('data/demografia.md'),\n",
              " PosixPath('data/desigualdad.md'),\n",
              " PosixPath('data/agroindustria.md'),\n",
              " PosixPath('data/gasto-publico.md'),\n",
              " PosixPath('data/trabajo-y-participacion-laboral.md'),\n",
              " PosixPath('data/salarios-e-ingresos.md')]"
            ]
          },
          "metadata": {},
          "execution_count": 79
        }
      ],
      "source": [
        "from pathlib import Path\n",
        "\n",
        "dataset_files = Path('./data/').glob('**/*.md')\n",
        "dataset_files = list(dataset_files)\n",
        "dataset_files[:-1]"
      ]
    },
    {
      "cell_type": "code",
      "metadata": {
        "colab": {
          "base_uri": "https://localhost:8080/"
        },
        "id": "83f184c9",
        "outputId": "81194f9f-1592-4321-f2ac-291371b1448a"
      },
      "source": [
        "# Si vas a detectar encodings automáticamente, instala primero:\n",
        "# !pip install charset-normalizer\n",
        "\n",
        "from pathlib import Path\n",
        "from typing import Tuple, Optional\n",
        "\n",
        "def read_text_safely(path: Path, try_encodings=None, use_detector=True) -> Tuple[str, Optional[str]]:\n",
        "    \"\"\"\n",
        "    Lee texto probando varias codificaciones. Devuelve (contenido, encoding_usada).\n",
        "    \"\"\"\n",
        "    if try_encodings is None:\n",
        "        # orden razonable para Markdown/CSV en ES\n",
        "        try_encodings = [\"utf-8\", \"utf-8-sig\", \"cp1252\", \"latin-1\"]\n",
        "\n",
        "    # 1) intentos directos\n",
        "    for enc in try_encodings:\n",
        "        try:\n",
        "            with open(path, \"r\", encoding=enc, errors=\"strict\") as f:\n",
        "                return f.read(), enc\n",
        "        except Exception:\n",
        "            pass\n",
        "\n",
        "    # 2) detección automática (charset-normalizer)\n",
        "    if use_detector:\n",
        "        try:\n",
        "            from charset_normalizer import from_path\n",
        "            res = from_path(path).best()\n",
        "            if res is not None:\n",
        "                return str(res), res.encoding\n",
        "        except Exception:\n",
        "            pass\n",
        "\n",
        "    # 3) último recurso: decodificar bytes con reemplazo para no reventar\n",
        "    with open(path, \"rb\") as fb:\n",
        "        raw = fb.read()\n",
        "    try:\n",
        "        return raw.decode(\"utf-8\", errors=\"replace\"), \"utf-8 (replace)\"\n",
        "    except Exception:\n",
        "        return raw.decode(\"latin-1\", errors=\"replace\"), \"latin-1 (replace)\"\n",
        "\n",
        "\n",
        "# ---- Uso con tu lista dataset_files ----\n",
        "if dataset_files:\n",
        "    first_file_path = Path(dataset_files[0])\n",
        "    try:\n",
        "        content, used_enc = read_text_safely(first_file_path)\n",
        "        print(f\"Encoding usada: {used_enc}\")\n",
        "        print(f\"Content of {first_file_path}:\\n\")\n",
        "        print(content[:500])  # preview\n",
        "    except Exception as e:\n",
        "        print(f\"Error leyendo {first_file_path}: {e}\")\n",
        "else:\n",
        "    print(\"No files found in the previous step.\")\n",
        "\n",
        "data = []\n",
        "for file in dataset_files:\n",
        "    path = Path(file)\n",
        "    try:\n",
        "        file_content, used_enc = read_text_safely(path)\n",
        "        data.append(file_content)\n",
        "        print(f\"Leído {path} con encoding {used_enc}, {len(file_content)} caracteres.\")\n",
        "    except Exception as e:\n",
        "        print(f\"Error leyendo {path}: {e}\")\n"
      ],
      "execution_count": 80,
      "outputs": [
        {
          "output_type": "stream",
          "name": "stdout",
          "text": [
            "Encoding usada: utf-8\n",
            "Content of data/pobreza.md:\n",
            "\n",
            "## Conceptos básicos\n",
            "\n",
            "Conceptualmente, la pobreza implica estar por debajo de un umbral mínimo de bienestar. Pero, ¿cómo operativizar este concepto abstracto en un indicador concreto? Existen diversas metodologías para hacerlo y así medir la pobreza.\n",
            "\n",
            "La más difundida es la pobreza monetaria (o por ingresos), que mide el bienestar de los hogares por su nivel de ingreso. La situación de pobreza se determina al comparar ese ingreso con un valor monetario: la línea de pobreza. Esta indica el monto \n",
            "Leído data/pobreza.md con encoding utf-8, 47830 caracteres.\n",
            "Leído data/inflacion.md con encoding utf-8, 23250 caracteres.\n",
            "Leído data/mineria.md con encoding utf-8, 36156 caracteres.\n",
            "Leído data/emisiones-de-gases-de-efecto-invernadero.md con encoding utf-8, 41476 caracteres.\n",
            "Leído data/ciencia-y-tecnologia.md con encoding utf-8, 41656 caracteres.\n",
            "Leído data/desarrollo-humano.md con encoding utf-8, 43317 caracteres.\n",
            "Leído data/estructura-productiva.md con encoding utf-8, 35782 caracteres.\n",
            "Leído data/servicios-basados-en-el-conocimiento.md con encoding utf-8, 39088 caracteres.\n",
            "Leído data/crecimiento.md con encoding utf-8, 34717 caracteres.\n",
            "Leído data/informalidad-y-desempleo.md con encoding utf-8, 33181 caracteres.\n",
            "Leído data/transicion-energetica.md con encoding utf-8, 40774 caracteres.\n",
            "Leído data/cambio-climatico.md con encoding utf-8, 24786 caracteres.\n",
            "Leído data/comercio-exterior.md con encoding utf-8, 39497 caracteres.\n",
            "Leído data/demografia.md con encoding utf-8, 38427 caracteres.\n",
            "Leído data/desigualdad.md con encoding utf-8, 42289 caracteres.\n",
            "Leído data/agroindustria.md con encoding utf-8, 44007 caracteres.\n",
            "Leído data/gasto-publico.md con encoding utf-8, 44604 caracteres.\n",
            "Leído data/trabajo-y-participacion-laboral.md con encoding utf-8, 40475 caracteres.\n",
            "Leído data/salarios-e-ingresos.md con encoding utf-8, 45905 caracteres.\n",
            "Leído data/pesca-y-acuicultura.md con encoding utf-8, 48410 caracteres.\n"
          ]
        }
      ]
    },
    {
      "cell_type": "code",
      "source": [
        "import re\n",
        "import unicodedata\n",
        "\n",
        "def clean_for_rag(text: str) -> str:\n",
        "    \"\"\"\n",
        "    Limpia texto semiestructurado (Markdown/HTML ligero) para RAG.\n",
        "    - Elimina secuencias literales \\n y saltos reales de línea\n",
        "    - Quita URLs\n",
        "    - Remueve etiquetas sueltas (PNG, JPG, GIF) y bloques [CSV](...)\n",
        "    - Despoja marcas Markdown (#, ###, **, _) conservando el texto\n",
        "    - Quita restos de código/markup comunes\n",
        "    - Normaliza espacios y puntuación básica\n",
        "    \"\"\"\n",
        "    # 0) Normaliza Unicode (acentos, etc.)\n",
        "    t = unicodedata.normalize(\"NFC\", text)\n",
        "\n",
        "    # 1) Convierte literales \"\\n\" en saltos reales y luego a espacios\n",
        "    t = t.replace(\"\\\\n\", \"\\n\")\n",
        "\n",
        "    # 2) Elimina URLs\n",
        "    t = re.sub(r'https?://\\S+', '', t)\n",
        "\n",
        "    # 3) Quita bloques tipo [Texto](enlace) -> conserva \"Texto\"\n",
        "    t = re.sub(r'\\[([^\\]]+)\\]\\((?:[^)]+)\\)', r'\\1', t)\n",
        "\n",
        "    # 4) Borra etiquetas de imagen/formatos sueltas (PNG, JPG, GIF, PDF) como palabras\n",
        "    t = re.sub(r'\\b(PNG|JPG|JPEG|GIF|PDF|SVG)\\b', '', t, flags=re.IGNORECASE)\n",
        "\n",
        "    # 5) Quita encabezados Markdown preservando el texto\n",
        "    #    \"# Título\" -> \"Título\", también \"### Subtítulo\"\n",
        "    t = re.sub(r'(^|\\n)\\s{0,3}#{1,6}\\s*', r'\\1', t)\n",
        "\n",
        "    # 6) Quita énfasis Markdown **negrita** y _itálica_ conservando contenido\n",
        "    t = t.replace('**', '').replace('__', '')\n",
        "    t = re.sub(r'(?<!\\w)[*_](.*?)[*_](?!\\w)', r'\\1', t)\n",
        "\n",
        "    # 7) Quita guiones/listas sin contenido estructural\n",
        "    t = re.sub(r'(^|\\n)\\s*[-•*]\\s*', r'\\1', t)\n",
        "\n",
        "    # 8) Quita restos de etiquetas/artefactos tipo \"Nota:\" si vienen pegados a markup\n",
        "    #    (si quieres conservar \"Nota:\" comenta esta línea)\n",
        "    # t = re.sub(r'\\bNota:\\s*', '', t, flags=re.IGNORECASE)\n",
        "\n",
        "    # 9) Colapsa saltos múltiples a un solo espacio\n",
        "    t = re.sub(r'[\\r\\n]+', ' ', t)\n",
        "\n",
        "    # 10) Espacios antes de puntuación y dobles espacios\n",
        "    t = re.sub(r'\\s+([,;:.!?])', r'\\1', t)\n",
        "    t = re.sub(r'\\s{2,}', ' ', t).strip()\n",
        "\n",
        "    return t\n",
        "\n",
        "clean_data = []\n",
        "for content in data:\n",
        "    clean_data.append(clean_for_rag(content))\n"
      ],
      "metadata": {
        "id": "ojqNC3dD_XHY"
      },
      "execution_count": 81,
      "outputs": []
    },
    {
      "cell_type": "code",
      "source": [
        "from splitter import RecursiveCharacterSplitter\n",
        "\n",
        "splitter = RecursiveCharacterSplitter(\n",
        "    chunk_size=400,\n",
        "    chunk_overlap=200\n",
        ")"
      ],
      "metadata": {
        "id": "qlCBTgRL_dhy"
      },
      "execution_count": 82,
      "outputs": []
    },
    {
      "cell_type": "code",
      "source": [
        "from common import Metadata\n",
        "from uuid import uuid4\n",
        "\n",
        "ids = list[str]()\n",
        "chunks = list[str]()\n",
        "metadatas = list[dict]()\n",
        "\n",
        "for file in dataset_files:\n",
        "    file = Path(file)\n",
        "\n",
        "    clean_file = clean_for_rag(file.read_text(encoding='utf8'))\n",
        "\n",
        "\n",
        "    for chunk in splitter.split_text(clean_file):\n",
        "        ids.append(str(uuid4()))\n",
        "\n",
        "        chunks.append(chunk)\n",
        "\n",
        "        path = str(file.resolve())\n",
        "        path = path.replace(\"\\\\\", \"/\").split(\"/\")[-1]\n",
        "        metadata = Metadata(path=path)\n",
        "        metadata = metadata.model_dump(mode='json', exclude_none=True)\n",
        "        metadatas.append(metadata)"
      ],
      "metadata": {
        "id": "T6ZZg0CBAGVm"
      },
      "execution_count": 83,
      "outputs": []
    },
    {
      "cell_type": "code",
      "source": [
        "from sentence_transformers import SentenceTransformer\n",
        "\n",
        "modelo_embeddings = SentenceTransformer(\n",
        "    model_name_or_path=\"sentence-transformers/all-mpnet-base-v2\",\n",
        "    device=\"cuda\", # \"cpu\"\n",
        "    backend='torch'\n",
        ")"
      ],
      "metadata": {
        "id": "26CH8silRrib"
      },
      "execution_count": 84,
      "outputs": []
    },
    {
      "cell_type": "code",
      "source": [
        "vectores = modelo_embeddings.encode(chunks, show_progress_bar=True)"
      ],
      "metadata": {
        "colab": {
          "base_uri": "https://localhost:8080/",
          "height": 49,
          "referenced_widgets": [
            "1defd3db261a4f299300ab50cc4df206",
            "841f7a01c005485b9b90ca28a999d8a8",
            "fae31ffa313e43368845c32f73d4a5e4",
            "59cd32ed83174e178542fd47cb38cbf7",
            "f8ebd836d97646248c47f1871f062c6f",
            "615097d3ccb441ec9d12be61a42341cc",
            "c65fd2468c1e4c7f8c317a464dac7254",
            "c4f72feeaa6949459ad08eaef2230aa6",
            "f102ea73ab2b4ef0a5bb62071e09c2e7",
            "1b2f6f42dfc94ad5b3bbad131a342f72",
            "f1b67972c6fb458fb651e4bb0ee4510b"
          ]
        },
        "id": "umkmyEZkRXkS",
        "outputId": "f6918f69-2f41-43ce-a5bb-d5e58b0542be"
      },
      "execution_count": 85,
      "outputs": [
        {
          "output_type": "display_data",
          "data": {
            "text/plain": [
              "Batches:   0%|          | 0/98 [00:00<?, ?it/s]"
            ],
            "application/vnd.jupyter.widget-view+json": {
              "version_major": 2,
              "version_minor": 0,
              "model_id": "1defd3db261a4f299300ab50cc4df206"
            }
          },
          "metadata": {}
        }
      ]
    },
    {
      "cell_type": "code",
      "source": [
        "import chromadb"
      ],
      "metadata": {
        "id": "ui2ybYATUCBZ"
      },
      "execution_count": 86,
      "outputs": []
    },
    {
      "cell_type": "code",
      "source": [
        "db = chromadb.PersistentClient(path=\"chroma\")"
      ],
      "metadata": {
        "id": "TyycMMyfUKzE"
      },
      "execution_count": 87,
      "outputs": []
    },
    {
      "cell_type": "code",
      "source": [
        "db.delete_collection('argendata_topicos')"
      ],
      "metadata": {
        "id": "Yqd95Mo2g9Pn"
      },
      "execution_count": 89,
      "outputs": []
    },
    {
      "cell_type": "code",
      "source": [
        "coleccion = db.create_collection(\"argendata_topicos\")"
      ],
      "metadata": {
        "id": "PL3Pl45CUMdy"
      },
      "execution_count": 90,
      "outputs": []
    },
    {
      "cell_type": "code",
      "source": [
        "coleccion.add(\n",
        "    ids=ids,\n",
        "    documents=chunks,\n",
        "    embeddings=vectores,\n",
        "    metadatas=metadatas,\n",
        ")"
      ],
      "metadata": {
        "id": "edbt2v8CUSEY"
      },
      "execution_count": 91,
      "outputs": []
    },
    {
      "cell_type": "code",
      "source": [
        "result = coleccion.query(modelo_embeddings.encode([\"La pobreza de argentina disminuyo un 10%\"]),\n",
        "                n_results=5)"
      ],
      "metadata": {
        "id": "DRkMnR1sUjXu"
      },
      "execution_count": 92,
      "outputs": []
    },
    {
      "cell_type": "code",
      "source": [
        "from google.colab import userdata\n",
        "from google import genai\n",
        "import json\n",
        "\n",
        "api_key = userdata.get('GOOGLE_API_KEY') or userdata.get('GEMINI_API_KEY')\n",
        "client = genai.Client(api_key=api_key)  # el cliente toma la key aquí\n",
        "\n",
        "def check_truth(query):\n",
        "\n",
        "  result = coleccion.query(modelo_embeddings.encode([query]),\n",
        "                  n_results=30)\n",
        "\n",
        "  docs = (result.get(\"documents\") or [[]])[0]\n",
        "  metas = (result.get(\"metadatas\") or [[]])[0]\n",
        "\n",
        "  input_llm = [\n",
        "      {\"path\": (md or {}).get(\"path\", \"\"), \"content\": doc}\n",
        "      for doc, md in zip(docs, metas)\n",
        "  ]\n",
        "\n",
        "  context = \"\\n\".join([f\"File: {pair['path']}\\nContent: {pair['content']}\" for pair in input_llm])\n",
        "\n",
        "  prompt = (\n",
        "      \"\"\"\n",
        "      TAREA (RAG):\n",
        "      Recibirás una SENTENCIA (afirmación) y un CONTEXTO formado por fragmentos recuperados de documentos (con sus paths).\n",
        "      Debes evaluar la SENTENCIA usando EXCLUSIVAMENTE ese CONTEXTO. Tu objetivo es clasificar la afirmación y fundamentar la respuesta\n",
        "      con las fuentes (paths) recuperadas. Si el CONTEXTO no es concluyente, indícalo.\n",
        "\n",
        "      INSTRUCCIONES (NO REVELAR):\n",
        "      - Usa EXCLUSIVAMENTE el Contexto provisto. No inventes datos.\n",
        "      - Determina si la Sentencia es: \"verdad\", \"falso\" o \"no hay informacion suficiente\".\n",
        "      - Si el contexto no confirma con claridad la Sentencia, responde \"no hay informacion suficiente\".\n",
        "      - RESPONDE EXCLUSIVAMENTE con un JSON VÁLIDO. No incluyas ningún texto adicional, ni explicaciones fuera del JSON, ni bloques de código, ni comentarios.\n",
        "      - Usa comillas dobles en claves y valores. No uses comas finales (trailing commas).\n",
        "      - El JSON debe seguir EXACTAMENTE este esquema:\n",
        "      {\n",
        "        \"Resultado\": \"verdad|falso|NA\",\n",
        "        \"Respuesta\": \"<explicación breve y directa citando el dato del contexto (si aplica)>\",\n",
        "        \"paths\": [\"<path1>\", \"<path2>\", \"...\"]\n",
        "      }\n",
        "      - \"paths\" debe listar hasta 3 archivos del contexto que fundamenten la respuesta (sin duplicados).\n",
        "\n",
        "      SENTENCIA:\n",
        "      {sentencia}\n",
        "\n",
        "      CONTEXTO:\n",
        "      {contexto}\n",
        "      \"\"\"\n",
        "      f\"Sentencia: {query}\\n\\n\"\n",
        "      f\"Contexto:\\n{context}\"\n",
        "  )\n",
        "\n",
        "  resp = client.models.generate_content(\n",
        "      model=\"gemini-2.5-flash\",   # modelo estable recomendado\n",
        "      contents=prompt\n",
        "  )\n",
        "\n",
        "  resp = resp.text\n",
        "\n",
        "  if resp.startswith(\"```\"):\n",
        "      resp = re.sub(r\"^```(?:json)?\\s*|\\s*```$\", \"\", resp, flags=re.S).strip()\n",
        "\n",
        "  data = json.loads(resp)\n",
        "\n",
        "  return data\n"
      ],
      "metadata": {
        "id": "DFIuH_6cXBRU"
      },
      "execution_count": 124,
      "outputs": []
    },
    {
      "cell_type": "code",
      "source": [
        "query = 'La pobreza se redujo hacia fines de 1993'\n",
        "\n",
        "check_truth(query)"
      ],
      "metadata": {
        "colab": {
          "base_uri": "https://localhost:8080/"
        },
        "id": "0rQp4VovdB7j",
        "outputId": "fd897068-c7ed-455d-a58a-d9d91723fdef"
      },
      "execution_count": 125,
      "outputs": [
        {
          "output_type": "execute_result",
          "data": {
            "text/plain": [
              "{'Resultado': 'verdad',\n",
              " 'Respuesta': 'En los primeros años del régimen de convertibilidad (1991-2001), la pobreza se redujo y alcanzó el 27% hacia fines de 1993. Además, el nivel de pobreza de aproximadamente 26% en el segundo semestre de 1993 fue el valor mínimo alcanzado.',\n",
              " 'paths': ['pobreza.md']}"
            ]
          },
          "metadata": {},
          "execution_count": 125
        }
      ]
    },
    {
      "cell_type": "code",
      "source": [
        "path = Path(\"./frases_originales.json\")\n",
        "\n",
        "with path.open(\"r\", encoding=\"utf-8\") as f:\n",
        "    data = json.load(f)"
      ],
      "metadata": {
        "id": "o8qjaMdJkpur"
      },
      "execution_count": 130,
      "outputs": []
    },
    {
      "cell_type": "code",
      "source": [
        "res = []\n",
        "\n",
        "for query in data['frases_originales'][16:]:\n",
        "  print(query)\n",
        "  res_query = check_truth(query)\n",
        "  res.append(res_query)\n",
        "  print(res_query)"
      ],
      "metadata": {
        "colab": {
          "base_uri": "https://localhost:8080/"
        },
        "id": "VK24FlU5m-Fn",
        "outputId": "17b9df78-93ca-4498-dc09-261d3d1acd6e"
      },
      "execution_count": 149,
      "outputs": [
        {
          "output_type": "stream",
          "name": "stdout",
          "text": [
            "En 2023, solo el 14.5% de los beneficiarios pertenecían al 10% de los individuos más pobres en la distribución del ingreso antes de las transferencias, mientras que 21,8% pertenece al 10% siguiente de la distribución.\n",
            "{'Resultado': 'falso', 'Respuesta': 'En 2023, el 27,9% de los beneficiarios pertenecían al 10% de los individuos más pobres en la distribución del ingreso antes de las transferencias, según el contexto, lo cual contradice el 14.5% indicado en la sentencia. La cifra del 21,8% para el 10% siguiente sí es correcta.', 'paths': ['pobreza.md']}\n",
            "Cerca de la mitad de los beneficiarios pertenece al 20% (quintil 1) más pobre de la población.\n",
            "{'Resultado': 'verdad', 'Respuesta': 'Cerca de la mitad de los beneficiarios pertenece al 20% (quintil 1) más pobre de la población, específicamente, en 2023, el 27,9% pertenecía al 10% más pobre y el 21,8% al 10% siguiente de la distribución, sumando casi la mitad.', 'paths': ['pobreza.md']}\n",
            "Casi el 40% (39,1%) no cuenta en su vivienda con cloacas, agua corriente o inodoro con descarga, según la misma fuente.\n",
            "{'Resultado': 'NA', 'Respuesta': 'El contexto proporcionado no contiene información que confirme que \"Casi el 40% (39,1%) no cuenta en su vivienda con cloacas, agua corriente o inodoro con descarga\". Si bien se menciona el acceso a saneamiento y retretes con descarga de agua, no se especifica el porcentaje exacto ni la combinación de servicios mencionada en la sentencia.', 'paths': ['desigualdad.md']}\n",
            "Casi el 30% de los niños, niñas y adolescentes argentinos comparte un colchón para dormir.\n",
            "{'Resultado': 'NA', 'Respuesta': 'El contexto no proporciona información sobre el porcentaje de niños, niñas y adolescentes argentinos que comparten un colchón para dormir.', 'paths': []}\n"
          ]
        }
      ]
    },
    {
      "cell_type": "code",
      "source": [
        "import json\n",
        "from pathlib import Path\n",
        "\n",
        "path = Path(\"./res.json\")  # cambia el nombre si querés\n",
        "\n",
        "with path.open(\"w\", encoding=\"utf-8\") as f:\n",
        "    json.dump(res, f, ensure_ascii=False, indent=2)\n",
        "\n",
        "print(\"Guardado en:\", path)"
      ],
      "metadata": {
        "colab": {
          "base_uri": "https://localhost:8080/"
        },
        "id": "m-8isP96r62J",
        "outputId": "d9e34e25-a8cc-49af-b662-383af43ba3f5"
      },
      "execution_count": 163,
      "outputs": [
        {
          "output_type": "stream",
          "name": "stdout",
          "text": [
            "Guardado en: res.json\n"
          ]
        }
      ]
    },
    {
      "cell_type": "code",
      "source": [],
      "metadata": {
        "id": "43qzYwu1ubxT"
      },
      "execution_count": null,
      "outputs": []
    }
  ]
}